{
 "cells": [
  {
   "cell_type": "markdown",
   "metadata": {
    "id": "SgXxVL9Nt4XN"
   },
   "source": [
    "# Data Pre-Processing"
   ]
  },
  {
   "cell_type": "markdown",
   "metadata": {
    "id": "gyOyZCQg1i2p"
   },
   "source": [
    "1) import the dataset. use various methods (such as .unique and .value_counts) to learn relevant information about the dataset.\n",
    "\n",
    "2) convert features with two non-numerical values into 0s and 1s.\n",
    "\n",
    "3) convert features with more than two non-numerical values into numerical values with a one-hot feature vector.\n",
    "\n",
    "4) separate into train and test sets. The train and test sets should have equal ratios of \"Has heart disease\" to \"does not have heart disease\", so you will either have to manually do this or find a library that can ensure even distribution in the train/test split. sklearn's train_test_split may have a way to make this happen, or it may not.\n",
    "\n",
    "By the end of this section, these variables should exist. The training and test sets must have equal ratios of the two classes (has heart disease & doesn't have heart disease):\n",
    "\n",
    "X: pandas dataset, minus the feature indicating whether the person has heart disease\n",
    "\n",
    "y: pandas dataset, but only with the feature indicating whether the person has heart disease\n",
    "\n",
    "X_train: numpy array. Subset of X including 70% of samples\n",
    "\n",
    "y_train: numpy array. Samples from y matching with the samples in X_train\n",
    "\n",
    "X_test: numpy array. the other 30% of the samples.\n",
    "\n",
    "y_test: numpy array. Samples from y matching with the samples in X_test."
   ]
  },
  {
   "cell_type": "code",
   "execution_count": 1,
   "metadata": {
    "id": "0RdjGVyttwpB"
   },
   "outputs": [],
   "source": [
    "import pandas as pd\n",
    "\n",
    "dataset_url = \"https://raw.githubusercontent.com/MichaelMcGilvray/Health-And-Med-Group2/main/heart_2020_cleaned.csv\"\n",
    "df = pd.read_csv(dataset_url)"
   ]
  },
  {
   "cell_type": "code",
   "execution_count": 2,
   "metadata": {
    "id": "p3cJxXvGKnKz"
   },
   "outputs": [],
   "source": [
    "import numpy as np\n",
    "\n",
    "# Convert yes/no to 1/0\n",
    "corrected_yes_no_data = { \"HeartDisease\" : {\"No\": 0, \"Yes\": 1},\n",
    "                  \"Smoking\" : {\"No\": 0, \"Yes\": 1},\n",
    "                  \"AlcoholDrinking\" : {\"No\": 0, \"Yes\": 1},\n",
    "                  \"Stroke\" : {\"No\": 0, \"Yes\": 1},\n",
    "                  \"DiffWalking\" : {\"No\": 0, \"Yes\": 1},\n",
    "                  \"PhysicalActivity\" : {\"No\": 0, \"Yes\": 1},\n",
    "                  \"Asthma\" : {\"No\": 0, \"Yes\": 1},\n",
    "                  \"KidneyDisease\" : {\"No\": 0, \"Yes\": 1},\n",
    "                  \"SkinCancer\" : {\"No\": 0, \"Yes\": 1} }\n",
    "\n",
    "df = df.replace(corrected_yes_no_data)\n",
    "heatmap_df= df\n",
    "\n",
    "\n",
    "# Convert continuous data to a usable form\n",
    "corrected_AgeCategory = { \"18-24\" : 0, \"25-29\" : 1, \"30-34\" : 2, \"35-39\" : 3, \"40-44\" : 4,\n",
    "                          \"45-49\" : 5, \"50-54\" : 6, \"55-59\" : 7, \"60-64\" : 8, \"65-69\" : 8,\n",
    "                          \"70-74\" : 10, \"75-79\" : 11, \"80 or older\" : 12 }\n",
    "df = df.replace(corrected_AgeCategory)\n",
    "\n",
    "corrected_Diabetic = { \"No\" : 0, \"No, borderline diabetes\" : 1, \"Yes (during pregnancy)\" : 2, \"Yes\" : 2 }\n",
    "df = df.replace(corrected_Diabetic)\n",
    "\n",
    "corrected_GenHealth = { \"Poor\" : 0, \"Fair\" : 1, \"Good\" : 2, \"Very good\" : 3, \"Excellent\" : 4 }\n",
    "df = df.replace(corrected_GenHealth)\n",
    "\n",
    "\n",
    "# Convert categorical data to 1/0 using one-hot encoding\n",
    "# df = pd.get_dummies(df, columns=[\"GenHealth\", \"PhysicalHealth\", \"MentalHealth\", \"Sex\", \"AgeCategory\", \"Race\", \"Diabetic\", \"SleepTime\"])\n",
    "df = pd.get_dummies(df, columns=[\"Sex\", \"Race\"])\n",
    "\n",
    "\n",
    "# Formula Source: https://www.stackvidhya.com/how-to-normalize-data-between-0-and-1-range/\n",
    "def normalize_zero_one(i):\n",
    "  return (i - np.min(i)) / (np.max(i) - np.min(i))\n",
    "\n",
    "# Convert continuous data to normalized scalar between 0 and 1\n",
    "df[\"BMI\"] = normalize_zero_one(df[\"BMI\"])\n",
    "df[\"AgeCategory\"] = normalize_zero_one(df[\"AgeCategory\"])\n",
    "df[\"MentalHealth\"] = normalize_zero_one(df[\"MentalHealth\"])\n",
    "df[\"PhysicalHealth\"] = normalize_zero_one(df[\"PhysicalHealth\"])\n",
    "df[\"Diabetic\"] = normalize_zero_one(df[\"Diabetic\"])\n",
    "df[\"GenHealth\"] = normalize_zero_one(df[\"GenHealth\"])\n",
    "df[\"SleepTime\"] = normalize_zero_one(df[\"SleepTime\"])"
   ]
  },
  {
   "cell_type": "code",
   "execution_count": 3,
   "metadata": {
    "colab": {
     "base_uri": "https://localhost:8080/",
     "height": 522
    },
    "id": "h8o-6S7_Ah8m",
    "outputId": "274b30a8-75ec-4482-e2b4-94b30e6b79a0"
   },
   "outputs": [
    {
     "data": {
      "text/html": [
       "<div>\n",
       "<style scoped>\n",
       "    .dataframe tbody tr th:only-of-type {\n",
       "        vertical-align: middle;\n",
       "    }\n",
       "\n",
       "    .dataframe tbody tr th {\n",
       "        vertical-align: top;\n",
       "    }\n",
       "\n",
       "    .dataframe thead th {\n",
       "        text-align: right;\n",
       "    }\n",
       "</style>\n",
       "<table border=\"1\" class=\"dataframe\">\n",
       "  <thead>\n",
       "    <tr style=\"text-align: right;\">\n",
       "      <th></th>\n",
       "      <th>HeartDisease</th>\n",
       "      <th>BMI</th>\n",
       "      <th>Smoking</th>\n",
       "      <th>AlcoholDrinking</th>\n",
       "      <th>Stroke</th>\n",
       "      <th>PhysicalHealth</th>\n",
       "      <th>MentalHealth</th>\n",
       "      <th>DiffWalking</th>\n",
       "      <th>AgeCategory</th>\n",
       "      <th>Diabetic</th>\n",
       "      <th>...</th>\n",
       "      <th>KidneyDisease</th>\n",
       "      <th>SkinCancer</th>\n",
       "      <th>Sex_Female</th>\n",
       "      <th>Sex_Male</th>\n",
       "      <th>Race_American Indian/Alaskan Native</th>\n",
       "      <th>Race_Asian</th>\n",
       "      <th>Race_Black</th>\n",
       "      <th>Race_Hispanic</th>\n",
       "      <th>Race_Other</th>\n",
       "      <th>Race_White</th>\n",
       "    </tr>\n",
       "  </thead>\n",
       "  <tbody>\n",
       "    <tr>\n",
       "      <th>0</th>\n",
       "      <td>0</td>\n",
       "      <td>0.055294</td>\n",
       "      <td>1</td>\n",
       "      <td>0</td>\n",
       "      <td>0</td>\n",
       "      <td>0.100000</td>\n",
       "      <td>1.0</td>\n",
       "      <td>0</td>\n",
       "      <td>0.583333</td>\n",
       "      <td>1.0</td>\n",
       "      <td>...</td>\n",
       "      <td>0</td>\n",
       "      <td>1</td>\n",
       "      <td>1</td>\n",
       "      <td>0</td>\n",
       "      <td>0</td>\n",
       "      <td>0</td>\n",
       "      <td>0</td>\n",
       "      <td>0</td>\n",
       "      <td>0</td>\n",
       "      <td>1</td>\n",
       "    </tr>\n",
       "    <tr>\n",
       "      <th>1</th>\n",
       "      <td>0</td>\n",
       "      <td>0.100447</td>\n",
       "      <td>0</td>\n",
       "      <td>0</td>\n",
       "      <td>1</td>\n",
       "      <td>0.000000</td>\n",
       "      <td>0.0</td>\n",
       "      <td>0</td>\n",
       "      <td>1.000000</td>\n",
       "      <td>0.0</td>\n",
       "      <td>...</td>\n",
       "      <td>0</td>\n",
       "      <td>0</td>\n",
       "      <td>1</td>\n",
       "      <td>0</td>\n",
       "      <td>0</td>\n",
       "      <td>0</td>\n",
       "      <td>0</td>\n",
       "      <td>0</td>\n",
       "      <td>0</td>\n",
       "      <td>1</td>\n",
       "    </tr>\n",
       "    <tr>\n",
       "      <th>2</th>\n",
       "      <td>0</td>\n",
       "      <td>0.175782</td>\n",
       "      <td>1</td>\n",
       "      <td>0</td>\n",
       "      <td>0</td>\n",
       "      <td>0.666667</td>\n",
       "      <td>1.0</td>\n",
       "      <td>0</td>\n",
       "      <td>0.666667</td>\n",
       "      <td>1.0</td>\n",
       "      <td>...</td>\n",
       "      <td>0</td>\n",
       "      <td>0</td>\n",
       "      <td>0</td>\n",
       "      <td>1</td>\n",
       "      <td>0</td>\n",
       "      <td>0</td>\n",
       "      <td>0</td>\n",
       "      <td>0</td>\n",
       "      <td>0</td>\n",
       "      <td>1</td>\n",
       "    </tr>\n",
       "    <tr>\n",
       "      <th>3</th>\n",
       "      <td>0</td>\n",
       "      <td>0.147169</td>\n",
       "      <td>0</td>\n",
       "      <td>0</td>\n",
       "      <td>0</td>\n",
       "      <td>0.000000</td>\n",
       "      <td>0.0</td>\n",
       "      <td>0</td>\n",
       "      <td>0.916667</td>\n",
       "      <td>0.0</td>\n",
       "      <td>...</td>\n",
       "      <td>0</td>\n",
       "      <td>1</td>\n",
       "      <td>1</td>\n",
       "      <td>0</td>\n",
       "      <td>0</td>\n",
       "      <td>0</td>\n",
       "      <td>0</td>\n",
       "      <td>0</td>\n",
       "      <td>0</td>\n",
       "      <td>1</td>\n",
       "    </tr>\n",
       "    <tr>\n",
       "      <th>4</th>\n",
       "      <td>0</td>\n",
       "      <td>0.141132</td>\n",
       "      <td>0</td>\n",
       "      <td>0</td>\n",
       "      <td>0</td>\n",
       "      <td>0.933333</td>\n",
       "      <td>0.0</td>\n",
       "      <td>1</td>\n",
       "      <td>0.333333</td>\n",
       "      <td>0.0</td>\n",
       "      <td>...</td>\n",
       "      <td>0</td>\n",
       "      <td>0</td>\n",
       "      <td>1</td>\n",
       "      <td>0</td>\n",
       "      <td>0</td>\n",
       "      <td>0</td>\n",
       "      <td>0</td>\n",
       "      <td>0</td>\n",
       "      <td>0</td>\n",
       "      <td>1</td>\n",
       "    </tr>\n",
       "    <tr>\n",
       "      <th>...</th>\n",
       "      <td>...</td>\n",
       "      <td>...</td>\n",
       "      <td>...</td>\n",
       "      <td>...</td>\n",
       "      <td>...</td>\n",
       "      <td>...</td>\n",
       "      <td>...</td>\n",
       "      <td>...</td>\n",
       "      <td>...</td>\n",
       "      <td>...</td>\n",
       "      <td>...</td>\n",
       "      <td>...</td>\n",
       "      <td>...</td>\n",
       "      <td>...</td>\n",
       "      <td>...</td>\n",
       "      <td>...</td>\n",
       "      <td>...</td>\n",
       "      <td>...</td>\n",
       "      <td>...</td>\n",
       "      <td>...</td>\n",
       "      <td>...</td>\n",
       "    </tr>\n",
       "    <tr>\n",
       "      <th>319790</th>\n",
       "      <td>1</td>\n",
       "      <td>0.185802</td>\n",
       "      <td>1</td>\n",
       "      <td>0</td>\n",
       "      <td>0</td>\n",
       "      <td>0.233333</td>\n",
       "      <td>0.0</td>\n",
       "      <td>1</td>\n",
       "      <td>0.666667</td>\n",
       "      <td>1.0</td>\n",
       "      <td>...</td>\n",
       "      <td>0</td>\n",
       "      <td>0</td>\n",
       "      <td>0</td>\n",
       "      <td>1</td>\n",
       "      <td>0</td>\n",
       "      <td>0</td>\n",
       "      <td>0</td>\n",
       "      <td>1</td>\n",
       "      <td>0</td>\n",
       "      <td>0</td>\n",
       "    </tr>\n",
       "    <tr>\n",
       "      <th>319791</th>\n",
       "      <td>0</td>\n",
       "      <td>0.215139</td>\n",
       "      <td>1</td>\n",
       "      <td>0</td>\n",
       "      <td>0</td>\n",
       "      <td>0.000000</td>\n",
       "      <td>0.0</td>\n",
       "      <td>0</td>\n",
       "      <td>0.250000</td>\n",
       "      <td>0.0</td>\n",
       "      <td>...</td>\n",
       "      <td>0</td>\n",
       "      <td>0</td>\n",
       "      <td>0</td>\n",
       "      <td>1</td>\n",
       "      <td>0</td>\n",
       "      <td>0</td>\n",
       "      <td>0</td>\n",
       "      <td>1</td>\n",
       "      <td>0</td>\n",
       "      <td>0</td>\n",
       "    </tr>\n",
       "    <tr>\n",
       "      <th>319792</th>\n",
       "      <td>0</td>\n",
       "      <td>0.147531</td>\n",
       "      <td>0</td>\n",
       "      <td>0</td>\n",
       "      <td>0</td>\n",
       "      <td>0.000000</td>\n",
       "      <td>0.0</td>\n",
       "      <td>0</td>\n",
       "      <td>0.416667</td>\n",
       "      <td>0.0</td>\n",
       "      <td>...</td>\n",
       "      <td>0</td>\n",
       "      <td>0</td>\n",
       "      <td>1</td>\n",
       "      <td>0</td>\n",
       "      <td>0</td>\n",
       "      <td>0</td>\n",
       "      <td>0</td>\n",
       "      <td>1</td>\n",
       "      <td>0</td>\n",
       "      <td>0</td>\n",
       "    </tr>\n",
       "    <tr>\n",
       "      <th>319793</th>\n",
       "      <td>0</td>\n",
       "      <td>0.250996</td>\n",
       "      <td>0</td>\n",
       "      <td>0</td>\n",
       "      <td>0</td>\n",
       "      <td>0.000000</td>\n",
       "      <td>0.0</td>\n",
       "      <td>0</td>\n",
       "      <td>0.083333</td>\n",
       "      <td>0.0</td>\n",
       "      <td>...</td>\n",
       "      <td>0</td>\n",
       "      <td>0</td>\n",
       "      <td>1</td>\n",
       "      <td>0</td>\n",
       "      <td>0</td>\n",
       "      <td>0</td>\n",
       "      <td>0</td>\n",
       "      <td>1</td>\n",
       "      <td>0</td>\n",
       "      <td>0</td>\n",
       "    </tr>\n",
       "    <tr>\n",
       "      <th>319794</th>\n",
       "      <td>0</td>\n",
       "      <td>0.416999</td>\n",
       "      <td>0</td>\n",
       "      <td>0</td>\n",
       "      <td>0</td>\n",
       "      <td>0.000000</td>\n",
       "      <td>0.0</td>\n",
       "      <td>0</td>\n",
       "      <td>1.000000</td>\n",
       "      <td>0.0</td>\n",
       "      <td>...</td>\n",
       "      <td>0</td>\n",
       "      <td>0</td>\n",
       "      <td>1</td>\n",
       "      <td>0</td>\n",
       "      <td>0</td>\n",
       "      <td>0</td>\n",
       "      <td>0</td>\n",
       "      <td>1</td>\n",
       "      <td>0</td>\n",
       "      <td>0</td>\n",
       "    </tr>\n",
       "  </tbody>\n",
       "</table>\n",
       "<p>319795 rows × 24 columns</p>\n",
       "</div>"
      ],
      "text/plain": [
       "        HeartDisease       BMI  Smoking  AlcoholDrinking  Stroke  \\\n",
       "0                  0  0.055294        1                0       0   \n",
       "1                  0  0.100447        0                0       1   \n",
       "2                  0  0.175782        1                0       0   \n",
       "3                  0  0.147169        0                0       0   \n",
       "4                  0  0.141132        0                0       0   \n",
       "...              ...       ...      ...              ...     ...   \n",
       "319790             1  0.185802        1                0       0   \n",
       "319791             0  0.215139        1                0       0   \n",
       "319792             0  0.147531        0                0       0   \n",
       "319793             0  0.250996        0                0       0   \n",
       "319794             0  0.416999        0                0       0   \n",
       "\n",
       "        PhysicalHealth  MentalHealth  DiffWalking  AgeCategory  Diabetic  ...  \\\n",
       "0             0.100000           1.0            0     0.583333       1.0  ...   \n",
       "1             0.000000           0.0            0     1.000000       0.0  ...   \n",
       "2             0.666667           1.0            0     0.666667       1.0  ...   \n",
       "3             0.000000           0.0            0     0.916667       0.0  ...   \n",
       "4             0.933333           0.0            1     0.333333       0.0  ...   \n",
       "...                ...           ...          ...          ...       ...  ...   \n",
       "319790        0.233333           0.0            1     0.666667       1.0  ...   \n",
       "319791        0.000000           0.0            0     0.250000       0.0  ...   \n",
       "319792        0.000000           0.0            0     0.416667       0.0  ...   \n",
       "319793        0.000000           0.0            0     0.083333       0.0  ...   \n",
       "319794        0.000000           0.0            0     1.000000       0.0  ...   \n",
       "\n",
       "        KidneyDisease  SkinCancer  Sex_Female  Sex_Male  \\\n",
       "0                   0           1           1         0   \n",
       "1                   0           0           1         0   \n",
       "2                   0           0           0         1   \n",
       "3                   0           1           1         0   \n",
       "4                   0           0           1         0   \n",
       "...               ...         ...         ...       ...   \n",
       "319790              0           0           0         1   \n",
       "319791              0           0           0         1   \n",
       "319792              0           0           1         0   \n",
       "319793              0           0           1         0   \n",
       "319794              0           0           1         0   \n",
       "\n",
       "        Race_American Indian/Alaskan Native  Race_Asian  Race_Black  \\\n",
       "0                                         0           0           0   \n",
       "1                                         0           0           0   \n",
       "2                                         0           0           0   \n",
       "3                                         0           0           0   \n",
       "4                                         0           0           0   \n",
       "...                                     ...         ...         ...   \n",
       "319790                                    0           0           0   \n",
       "319791                                    0           0           0   \n",
       "319792                                    0           0           0   \n",
       "319793                                    0           0           0   \n",
       "319794                                    0           0           0   \n",
       "\n",
       "        Race_Hispanic  Race_Other  Race_White  \n",
       "0                   0           0           1  \n",
       "1                   0           0           1  \n",
       "2                   0           0           1  \n",
       "3                   0           0           1  \n",
       "4                   0           0           1  \n",
       "...               ...         ...         ...  \n",
       "319790              1           0           0  \n",
       "319791              1           0           0  \n",
       "319792              1           0           0  \n",
       "319793              1           0           0  \n",
       "319794              1           0           0  \n",
       "\n",
       "[319795 rows x 24 columns]"
      ]
     },
     "execution_count": 3,
     "metadata": {},
     "output_type": "execute_result"
    }
   ],
   "source": [
    "df"
   ]
  },
  {
   "cell_type": "code",
   "execution_count": 4,
   "metadata": {
    "id": "L6WfTt57arFs"
   },
   "outputs": [],
   "source": [
    "# Split dataframe into X and y\n",
    "\n",
    "# X: pandas dataset, minus the feature indicating whether the person has heart disease\n",
    "X = df.drop(labels=\"HeartDisease\", axis=1)\n",
    "\n",
    "# y: pandas dataset, but only with the feature indicating whether the person has heart disease\n",
    "y = pd.DataFrame(df[\"HeartDisease\"])"
   ]
  },
  {
   "cell_type": "code",
   "execution_count": 5,
   "metadata": {
    "id": "cvdtR39IRoNX"
   },
   "outputs": [],
   "source": [
    "from sklearn.model_selection import train_test_split\n",
    "\n",
    "# X_train: numpy array. Subset of X including 80% of samples\n",
    "# y_train: numpy array. Samples from y matching with the samples in X_train\n",
    "# X_test: numpy array. the other 20% of the samples.\n",
    "# y_test: numpy array. Samples from y matching with the samples in X_test.\n",
    "X_train, X_test, y_train, y_test = train_test_split(X, y, train_size= 0.8, test_size=0.2, stratify=y[\"HeartDisease\"])"
   ]
  },
  {
   "cell_type": "code",
   "execution_count": 6,
   "metadata": {
    "colab": {
     "base_uri": "https://localhost:8080/"
    },
    "id": "unYyv3f8gyJ6",
    "outputId": "b6269918-c5a6-44bb-e067-beb46c505de8"
   },
   "outputs": [
    {
     "name": "stdout",
     "output_type": "stream",
     "text": [
      "Original dataset:\n",
      "Doesn't have heart disease: 91.440454 %\n",
      "Has heart disease: 8.559546 %\n",
      "\n",
      "After split -\n",
      "train set -\n",
      "Doesn't have heart disease: 91.440610 %\n",
      "Has heart disease: 8.559390 %\n",
      "\n",
      "test -\n",
      "Doesn't have heart disease: 91.439829 %\n",
      "Has heart disease: 8.560171 %\n"
     ]
    }
   ],
   "source": [
    "# Verify the ratio of has heart disease to doesn't have heart disease was maintained during split\n",
    "print(\"Original dataset:\")\n",
    "print(\"Doesn't have heart disease: %f %%\" %((df[\"HeartDisease\"].value_counts()[0] / df.shape[0])*100))\n",
    "print(\"Has heart disease: %f %%\\n\" %((df[\"HeartDisease\"].value_counts()[1] / df.shape[0])*100))\n",
    "\n",
    "print(\"After split -\\ntrain set -\")\n",
    "print(\"Doesn't have heart disease: %f %%\" %((y_train[\"HeartDisease\"].value_counts()[0] / y_train.shape[0])*100))\n",
    "print(\"Has heart disease: %f %%\" %((y_train[\"HeartDisease\"].value_counts()[1] / y_train.shape[0])*100))\n",
    "\n",
    "print(\"\\ntest -\")\n",
    "print(\"Doesn't have heart disease: %f %%\" %((y_test[\"HeartDisease\"].value_counts()[0] / y_test.shape[0])*100))\n",
    "print(\"Has heart disease: %f %%\" %((y_test[\"HeartDisease\"].value_counts()[1] / y_test.shape[0])*100))"
   ]
  },
  {
   "cell_type": "code",
   "execution_count": 7,
   "metadata": {
    "id": "29aq3Y-huMZC"
   },
   "outputs": [],
   "source": [
    "# If the train and test sets need to be numpy arrays:\n",
    "# X_train = X_train.to_numpy()\n",
    "# X_test = X_test.to_numpy()\n",
    "# y_train = y_train.to_numpy()\n",
    "# y_test = y_test.to_numpy()"
   ]
  },
  {
   "cell_type": "markdown",
   "metadata": {
    "id": "O57Fh2Lmt106"
   },
   "source": [
    "# Correlation Analysis"
   ]
  },
  {
   "cell_type": "markdown",
   "metadata": {
    "id": "Q8FIx_Yv1j2V"
   },
   "source": [
    "1) calculate Pearson correlation coefficients for X (not X_train or X_test) & display heat map\n",
    "\n",
    "2) calculate Spearman correlation coefficients & display heat map\n",
    "\n",
    "3) If a pair of variables has a very high positive or negative correlation, figure out which one is dependent (may require some research -- remember to save your sources so we can cite them) and drop the dependent variable from both the train and test sets."
   ]
  },
  {
   "cell_type": "code",
   "execution_count": 8,
   "metadata": {
    "id": "e1kCSdIZt1Be"
   },
   "outputs": [],
   "source": [
    "import numpy as np\n",
    "import matplotlib.pyplot as plt\n",
    "import seaborn as sns"
   ]
  },
  {
   "cell_type": "markdown",
   "metadata": {
    "id": "B-OYUe-HUtmT"
   },
   "source": [
    "Pearson Correlation Coefficient"
   ]
  },
  {
   "cell_type": "code",
   "execution_count": 9,
   "metadata": {
    "id": "xaTDdNlQNBqb"
   },
   "outputs": [],
   "source": [
    "X_Coff = heatmap_df.corr()"
   ]
  },
  {
   "cell_type": "code",
   "execution_count": 10,
   "metadata": {
    "colab": {
     "base_uri": "https://localhost:8080/",
     "height": 391
    },
    "id": "S7PjDEziPHj3",
    "outputId": "f9a13314-1c70-49e8-c45b-ae277a1e8470"
   },
   "outputs": [
    {
     "data": {
      "image/png": "[encoded data removed]",
      "text/plain": [
       "<Figure size 1152x432 with 2 Axes>"
      ]
     },
     "metadata": {
      "needs_background": "light"
     },
     "output_type": "display_data"
    }
   ],
   "source": [
    "plt.figure(figsize=(16, 6))\n",
    "\n",
    "heatmap = sns.heatmap(X_Coff, vmin = -1, vmax = 1, annot=True)"
   ]
  },
  {
   "cell_type": "markdown",
   "metadata": {
    "id": "liOXrP60VY6g"
   },
   "source": [
    "Spearman's Correlation Coefficient"
   ]
  },
  {
   "cell_type": "code",
   "execution_count": 11,
   "metadata": {
    "id": "XqHs0l9ZUy8g"
   },
   "outputs": [],
   "source": [
    "X_Coff_spearman = heatmap_df.corr(method = \"spearman\")"
   ]
  },
  {
   "cell_type": "code",
   "execution_count": 12,
   "metadata": {
    "colab": {
     "base_uri": "https://localhost:8080/",
     "height": 391
    },
    "id": "KYg_0ZyCVPAo",
    "outputId": "08734ac4-2f14-498c-a0da-4c4528ad0ad8"
   },
   "outputs": [
    {
     "data": {
      "image/png": "[encoded data removed]",
      "text/plain": [
       "<Figure size 1152x432 with 2 Axes>"
      ]
     },
     "metadata": {
      "needs_background": "light"
     },
     "output_type": "display_data"
    }
   ],
   "source": [
    "plt.figure(figsize=(16, 6))\n",
    "\n",
    "heatmap = sns.heatmap(X_Coff_spearman, vmin = -1, vmax = 1, annot=True)"
   ]
  },
  {
   "cell_type": "markdown",
   "metadata": {
    "id": "sTHqXeDmt2u9"
   },
   "source": [
    "# Classification"
   ]
  },
  {
   "cell_type": "markdown",
   "metadata": {
    "id": "yAEwH2291kul"
   },
   "source": [
    "Run the following classification models on the data. Account for the severe data imbalance in whatever way is most effective. Show Recall, Accuracy, Precision, F1, AUC, ROC Curve, and Confusion Matrix for each one, ideallyl in a way that allows you to compare multiple classifiers at once. At the end, report the most accurate classifier, which will be used for Shapley value calculation."
   ]
  },
  {
   "cell_type": "code",
   "execution_count": 13,
   "metadata": {
    "id": "GWTAcFoYi_89"
   },
   "outputs": [],
   "source": [
    "import time\n",
    "\n",
    "from imblearn.over_sampling import RandomOverSampler\n",
    "from imblearn.under_sampling import RandomUnderSampler\n",
    "\n",
    "from sklearn.metrics import accuracy_score, f1_score, roc_auc_score, recall_score, precision_score\n",
    "from sklearn.model_selection import GridSearchCV\n",
    "from sklearn.metrics import classification_report\n",
    "\n",
    "oversampler = RandomOverSampler()\n",
    "undersampler = RandomUnderSampler()\n",
    "samplers = {\"raw data\": None, \n",
    "            \"oversampled\": oversampler, \n",
    "            \"undersampled\": undersampler}\n",
    "\n",
    "def print_scores(y_test, y_pred):\n",
    "  print(\"Accuracy:\", accuracy_score(y_test, y_pred))\n",
    "  print(\"F1 score:\", f1_score(y_test, y_pred))\n",
    "  print(\"AUC ROC score:\", roc_auc_score(y_test, y_pred))\n",
    "  print(\"Recall:\", recall_score(y_test, y_pred))\n",
    "  print(\"Precision:\", precision_score(y_test, y_pred))\n",
    "\n",
    "def resample_fit_score(model, resampler, X_train, y_train, X_test, y_test):\n",
    "    start = time.time()\n",
    "    if resampler:\n",
    "        resampled_train_data, resampled_train_label = resampler.fit_resample(X_train, y_train)\n",
    "    else:\n",
    "        resampled_train_data, resampled_train_label = X_train, y_train\n",
    "    model = model.fit(resampled_train_data, resampled_train_label)\n",
    "    end = time.time()\n",
    "    print(f\"Training time: {end-start}\")\n",
    "    y_pred = model.predict(X_test)\n",
    "    print(classification_report(y_test, y_pred))\n",
    "    print_scores(y_test, y_pred)\n",
    "\n",
    "def run_all_samplers(model, samplers, X_train, y_train, X_test, y_test):\n",
    "    for sampler_name in samplers:\n",
    "      resample_fit_score(model, samplers[sampler_name], X_train, y_train, X_test, y_test)\n",
    "      print(f\"===============================\")\n",
    "      print(f\"{sampler_name}\\n\\n\")\n",
    "      print(f\"===============================\")"
   ]
  },
  {
   "cell_type": "markdown",
   "metadata": {
    "id": "rrjv-813xPC7"
   },
   "source": [
    "## Logistic Regression"
   ]
  },
  {
   "cell_type": "code",
   "execution_count": 14,
   "metadata": {
    "colab": {
     "base_uri": "https://localhost:8080/"
    },
    "id": "eZdU-3N4xYvr",
    "outputId": "85fb1986-f493-4acf-b6c5-ef56fe3d3716"
   },
   "outputs": [
    {
     "name": "stderr",
     "output_type": "stream",
     "text": [
      "C:\\Users\\ccb11\\anaconda3\\lib\\site-packages\\sklearn\\utils\\validation.py:63: DataConversionWarning: A column-vector y was passed when a 1d array was expected. Please change the shape of y to (n_samples, ), for example using ravel().\n",
      "  return f(*args, **kwargs)\n"
     ]
    },
    {
     "name": "stdout",
     "output_type": "stream",
     "text": [
      "Training time: 8.584611892700195\n",
      "              precision    recall  f1-score   support\n",
      "\n",
      "           0       0.92      0.99      0.96     58484\n",
      "           1       0.55      0.11      0.19      5475\n",
      "\n",
      "    accuracy                           0.92     63959\n",
      "   macro avg       0.74      0.55      0.57     63959\n",
      "weighted avg       0.89      0.92      0.89     63959\n",
      "\n",
      "Accuracy: 0.9161181381822731\n",
      "F1 score: 0.188719189475276\n",
      "AUC ROC score: 0.5525919370992933\n",
      "Recall: 0.11397260273972602\n",
      "Precision: 0.5483304042179262\n",
      "raw data report\n",
      "\n",
      "\n"
     ]
    },
    {
     "name": "stderr",
     "output_type": "stream",
     "text": [
      "C:\\Users\\ccb11\\anaconda3\\lib\\site-packages\\sklearn\\utils\\validation.py:63: DataConversionWarning: A column-vector y was passed when a 1d array was expected. Please change the shape of y to (n_samples, ), for example using ravel().\n",
      "  return f(*args, **kwargs)\n"
     ]
    },
    {
     "name": "stdout",
     "output_type": "stream",
     "text": [
      "Training time: 15.71229100227356\n",
      "              precision    recall  f1-score   support\n",
      "\n",
      "           0       0.97      0.75      0.85     58484\n",
      "           1       0.23      0.79      0.35      5475\n",
      "\n",
      "    accuracy                           0.75     63959\n",
      "   macro avg       0.60      0.77      0.60     63959\n",
      "weighted avg       0.91      0.75      0.81     63959\n",
      "\n",
      "Accuracy: 0.7538266702106037\n",
      "F1 score: 0.35357392125467013\n",
      "AUC ROC score: 0.7686267297397656\n",
      "Recall: 0.7864840182648402\n",
      "Precision: 0.2280478762842919\n",
      "oversampled report\n",
      "\n",
      "\n"
     ]
    },
    {
     "name": "stderr",
     "output_type": "stream",
     "text": [
      "C:\\Users\\ccb11\\anaconda3\\lib\\site-packages\\sklearn\\utils\\validation.py:63: DataConversionWarning: A column-vector y was passed when a 1d array was expected. Please change the shape of y to (n_samples, ), for example using ravel().\n",
      "  return f(*args, **kwargs)\n"
     ]
    },
    {
     "name": "stdout",
     "output_type": "stream",
     "text": [
      "Training time: 0.8958139419555664\n",
      "              precision    recall  f1-score   support\n",
      "\n",
      "           0       0.97      0.75      0.85     58484\n",
      "           1       0.23      0.79      0.35      5475\n",
      "\n",
      "    accuracy                           0.75     63959\n",
      "   macro avg       0.60      0.77      0.60     63959\n",
      "weighted avg       0.91      0.75      0.81     63959\n",
      "\n",
      "Accuracy: 0.7542800856798887\n",
      "F1 score: 0.3537828947368421\n",
      "AUC ROC score: 0.7685435613814995\n",
      "Recall: 0.7857534246575343\n",
      "Precision: 0.22828336428760945\n",
      "undersampled report\n",
      "\n",
      "\n"
     ]
    }
   ],
   "source": [
    "from sklearn.linear_model import LogisticRegression\n",
    "\n",
    "model = LogisticRegression(solver='saga')\n",
    "\n",
    "# If time allows you to run this the rest of this by uncommenting\n",
    "# Grid search over hyperparams\n",
    "# parameter_grid = {'penalty' : [\"l2\"],'C': np.arange(0, 3, 1),}\n",
    "# model = GridSearchCV(model, param_grid = parameter_grid, scoring='roc_auc', n_jobs=10, cv=2, verbose=2.2)\n",
    "\n",
    "for sampler_name in samplers:\n",
    "    resample_fit_score(model, samplers[sampler_name], X_train, y_train, X_test, y_test)\n",
    "    print(f\"{sampler_name} report\\n\\n\")"
   ]
  },
  {
   "cell_type": "markdown",
   "metadata": {
    "id": "7XXGhJKzxMCL"
   },
   "source": [
    "## SVC-Linear"
   ]
  },
  {
   "cell_type": "code",
   "execution_count": 15,
   "metadata": {
    "colab": {
     "base_uri": "https://localhost:8080/"
    },
    "id": "rSJjgpG1xZX1",
    "outputId": "af084a52-d1ec-4971-be48-d85268719f53"
   },
   "outputs": [
    {
     "name": "stderr",
     "output_type": "stream",
     "text": [
      "C:\\Users\\ccb11\\anaconda3\\lib\\site-packages\\sklearn\\utils\\validation.py:63: DataConversionWarning: A column-vector y was passed when a 1d array was expected. Please change the shape of y to (n_samples, ), for example using ravel().\n",
      "  return f(*args, **kwargs)\n"
     ]
    },
    {
     "name": "stdout",
     "output_type": "stream",
     "text": [
      "Training time: 8.160935640335083\n",
      "              precision    recall  f1-score   support\n",
      "\n",
      "           0       0.92      1.00      0.96     58484\n",
      "           1       0.61      0.04      0.07      5475\n",
      "\n",
      "    accuracy                           0.92     63959\n",
      "   macro avg       0.76      0.52      0.51     63959\n",
      "weighted avg       0.89      0.92      0.88     63959\n",
      "\n",
      "Accuracy: 0.91553964258353\n",
      "F1 score: 0.0715022344448264\n",
      "AUC ROC score: 0.5178412719679176\n",
      "Recall: 0.037990867579908674\n",
      "Precision: 0.6064139941690962\n",
      "raw data\n",
      "\n",
      "\n"
     ]
    },
    {
     "name": "stderr",
     "output_type": "stream",
     "text": [
      "C:\\Users\\ccb11\\anaconda3\\lib\\site-packages\\sklearn\\utils\\validation.py:63: DataConversionWarning: A column-vector y was passed when a 1d array was expected. Please change the shape of y to (n_samples, ), for example using ravel().\n",
      "  return f(*args, **kwargs)\n"
     ]
    },
    {
     "name": "stdout",
     "output_type": "stream",
     "text": [
      "Training time: 23.445491552352905\n",
      "              precision    recall  f1-score   support\n",
      "\n",
      "           0       0.97      0.75      0.85     58484\n",
      "           1       0.23      0.79      0.35      5475\n",
      "\n",
      "    accuracy                           0.75     63959\n",
      "   macro avg       0.60      0.77      0.60     63959\n",
      "weighted avg       0.91      0.75      0.80     63959\n",
      "\n",
      "Accuracy: 0.7498866461326787\n",
      "F1 score: 0.351429150618285\n",
      "AUC ROC score: 0.7687899902529638\n",
      "Recall: 0.7915981735159817\n",
      "Precision: 0.22584679520583636\n",
      "oversampled\n",
      "\n",
      "\n"
     ]
    },
    {
     "name": "stderr",
     "output_type": "stream",
     "text": [
      "C:\\Users\\ccb11\\anaconda3\\lib\\site-packages\\sklearn\\utils\\validation.py:63: DataConversionWarning: A column-vector y was passed when a 1d array was expected. Please change the shape of y to (n_samples, ), for example using ravel().\n",
      "  return f(*args, **kwargs)\n"
     ]
    },
    {
     "name": "stdout",
     "output_type": "stream",
     "text": [
      "Training time: 0.7254469394683838\n",
      "              precision    recall  f1-score   support\n",
      "\n",
      "           0       0.97      0.75      0.85     58484\n",
      "           1       0.23      0.79      0.35      5475\n",
      "\n",
      "    accuracy                           0.75     63959\n",
      "   macro avg       0.60      0.77      0.60     63959\n",
      "weighted avg       0.91      0.75      0.80     63959\n",
      "\n",
      "Accuracy: 0.7506683969417909\n",
      "F1 score: 0.3523008813614394\n",
      "AUC ROC score: 0.769465782156709\n",
      "Recall: 0.7921461187214612\n",
      "Precision: 0.22652251122949962\n",
      "undersampled\n",
      "\n",
      "\n"
     ]
    }
   ],
   "source": [
    "from sklearn.svm import LinearSVC\n",
    "\n",
    "model = LinearSVC(verbose=0)\n",
    "\n",
    "for sampler_name in samplers:\n",
    "    resample_fit_score(model, samplers[sampler_name], X_train, y_train, X_test, y_test)\n",
    "    print(f\"{sampler_name}\\n\\n\")"
   ]
  },
  {
   "cell_type": "markdown",
   "metadata": {
    "id": "S20T893IxSKU"
   },
   "source": [
    "## SVM-rbf Kernel"
   ]
  },
  {
   "cell_type": "code",
   "execution_count": null,
   "metadata": {
    "colab": {
     "base_uri": "https://localhost:8080/"
    },
    "id": "2vYKAPFUt1NP",
    "outputId": "2429789f-d253-41f3-d309-ffe4fcb6ceb3"
   },
   "outputs": [
    {
     "name": "stderr",
     "output_type": "stream",
     "text": [
      "C:\\Users\\ccb11\\anaconda3\\lib\\site-packages\\sklearn\\utils\\validation.py:63: DataConversionWarning: A column-vector y was passed when a 1d array was expected. Please change the shape of y to (n_samples, ), for example using ravel().\n",
      "  return f(*args, **kwargs)\n"
     ]
    }
   ],
   "source": [
    "from sklearn.svm import SVC\n",
    "\n",
    "model = SVC(kernel='rbf', random_state=0, gamma=10, C=1)\n",
    "\n",
    "for sampler_name in samplers:\n",
    "  \n",
    "    resample_fit_score(model, samplers[sampler_name], X_train, y_train, X_test, y_test)\n",
    "    print(f\"{sampler_name}\\n\\n\")"
   ]
  },
  {
   "cell_type": "markdown",
   "metadata": {
    "id": "lEklrC1O2lTP"
   },
   "source": [
    "## XGBoost"
   ]
  },
  {
   "cell_type": "code",
   "execution_count": null,
   "metadata": {
    "colab": {
     "base_uri": "https://localhost:8080/"
    },
    "id": "crBGvfcK2lf4",
    "outputId": "bc39ad9e-d731-42c8-f2b0-71945e6e37e6"
   },
   "outputs": [],
   "source": [
    "import xgboost as xgb\n",
    "from sklearn.ensemble import BaggingClassifier\n",
    "\n",
    "for sampler_name in samplers:\n",
    "    xgb_classifier = xgb.XGBClassifier()\n",
    "    bagging = BaggingClassifier(base_estimator=xgb_classifier, n_estimators=5, max_samples=50, bootstrap=True)\n",
    "    \n",
    "    resample_fit_score(bagging, samplers[sampler_name], X_train, y_train, X_test, y_test)\n",
    "    print(f\"bagging classifier {sampler_name}\\n\\n\")\n",
    "    \n",
    "    resample_fit_score(xgb_classifier, samplers[sampler_name], X_train, y_train, X_test, y_test)\n",
    "    print(f\"xgb {sampler_name}\\n\\n\")"
   ]
  },
  {
   "cell_type": "markdown",
   "metadata": {
    "id": "jv0Qr2Rb2oKN"
   },
   "source": [
    "## Neural Network (MLP)"
   ]
  },
  {
   "cell_type": "code",
   "execution_count": null,
   "metadata": {
    "colab": {
     "base_uri": "https://localhost:8080/"
    },
    "id": "GYRyYOP52oTo",
    "outputId": "026187dc-84a0-433a-e61c-2c2df06edd79"
   },
   "outputs": [],
   "source": [
    "%%time\n",
    "\n",
    "from sklearn.neural_network import MLPClassifier\n",
    "from sklearn.model_selection import GridSearchCV\n",
    "\n",
    "# mlp = MLPClassifier(random_state=1111, max_iter=100, hidden_layer_sizes=(200, 100)).fit(X_train, y_train)\n",
    "# y_pred = mlp.predict(X_test)\n",
    "# print(print_scores(y_test, y_pred))\n",
    "\n",
    "model = MLPClassifier(max_iter=100)\n",
    "\n",
    "\n",
    "# parameter_space = {\n",
    "#     'hidden_layer_sizes': [(100,200,50),(100,20)],\n",
    "#     'activation': ['tanh', 'relu'],\n",
    "#     'solver': ['sgd', 'adam'],\n",
    "#     'alpha': [0.0001, 0.05],\n",
    "#     'learning_rate': ['constant','adaptive'],\n",
    "# }\n",
    "# gs = GridSearchCV(mlp, parameter_space, n_jobs=-1, cv=2, verbose=3)\n",
    "# gs.fit(X_train, y_train)\n",
    "# print('Best params: {}'.format(gs.best_params_)) \n",
    "# print('Best Score: {}'.format(gs.best_score_))\n",
    "\n"
   ]
  },
  {
   "cell_type": "markdown",
   "metadata": {
    "id": "_xXsYl7G2ukL"
   },
   "source": [
    "# kNN"
   ]
  },
  {
   "cell_type": "code",
   "execution_count": null,
   "metadata": {
    "id": "_n9ITbIy2uyA"
   },
   "outputs": [],
   "source": [
    "%%time\n",
    "\n",
    "from sklearn.neighbors import KNeighborsClassifier\n",
    " \n",
    "model = KNeighborsClassifier(n_neighbors=8)\n",
    "# model.fit(X_train, y_train)\n",
    "# y_pred = model.predict(X_test)\n",
    "# print_scores(y_test, y_pred)\n",
    "\n",
    "resample_fit_score(model, samplers['undersampled'], X_train, y_train, X_test, y_test)\n",
    "print(f\"{sampler_name}\\n\\n\")"
   ]
  },
  {
   "cell_type": "markdown",
   "metadata": {
    "id": "_-0Bp8xK2u7j"
   },
   "source": [
    "## Decision Tree Classifier with Bagging\n"
   ]
  },
  {
   "cell_type": "code",
   "execution_count": null,
   "metadata": {
    "colab": {
     "base_uri": "https://localhost:8080/"
    },
    "id": "lBYiLRrr2vEv",
    "outputId": "6090943f-c5a6-4288-da7f-e7473caeef16"
   },
   "outputs": [],
   "source": [
    "%%time\n",
    "\n",
    "from sklearn.tree import DecisionTreeClassifier \n",
    "from sklearn.ensemble import BaggingClassifier\n",
    "\n",
    "tree = DecisionTreeClassifier(max_depth=3, random_state=1111)\n",
    "bagging = BaggingClassifier(base_estimator=tree, \n",
    "                            n_estimators=5, \n",
    "                            max_samples=50, \n",
    "                            bootstrap=True)\n",
    "\n",
    "resample_fit_score(bagging, samplers['undersampled'], X_train, y_train, X_test, y_test)\n",
    "print(\"Bagging Classifier\\n\\n\")\n",
    "\n",
    "print(f\"Train score: {bagging.score(X_train, y_train)}\")\n",
    "print(f\"Test score: {bagging.score(X_test, y_test)}\")\n",
    "\n",
    "resample_fit_score(tree, samplers['undersampled'], X_train, y_train, X_test, y_test)\n",
    "print(\"Decision Tree Classifier with Bagging\\n\\n\")"
   ]
  },
  {
   "cell_type": "markdown",
   "metadata": {
    "id": "nQvv8k9omQNN"
   },
   "source": [
    "## Decision Tree Classifier with Boosting\n"
   ]
  },
  {
   "cell_type": "code",
   "execution_count": null,
   "metadata": {
    "id": "6OfCWd_og46E"
   },
   "outputs": [],
   "source": [
    "%%time\n",
    "\n",
    "from sklearn.ensemble import AdaBoostClassifier\n",
    "\n",
    "tree = DecisionTreeClassifier(max_depth=2, random_state=1111)\n",
    "\n",
    "adaboost = AdaBoostClassifier(base_estimator=tree,\n",
    "                              n_estimators=5, \n",
    "                              learning_rate=0.1, \n",
    "                              random_state=23)\n",
    "\n",
    "resample_fit_score(adaboost, samplers['undersampled'], X_train, y_train, X_test, y_test)\n",
    "\n",
    "# Train Decision Tree Classifer\n",
    "tree = tree.fit(X_train,y_train)\n",
    "\n",
    "resample_fit_score(tree, samplers['undersampled'], X_train, y_train, X_test, y_test)"
   ]
  },
  {
   "cell_type": "markdown",
   "metadata": {
    "id": "CRUXgFev2vND"
   },
   "source": [
    "## Random Forest Classifier"
   ]
  },
  {
   "cell_type": "code",
   "execution_count": null,
   "metadata": {
    "colab": {
     "base_uri": "https://localhost:8080/"
    },
    "id": "APk_MnYJ2vXr",
    "outputId": "976e4915-d5c9-4b29-b284-6fc4bf32831d"
   },
   "outputs": [],
   "source": [
    "#grid search\n",
    "from sklearn.ensemble import RandomForestClassifier\n",
    "\n",
    "for sampler in samplers:\n",
    "    parameters = {  \n",
    "        'n_estimators': [24,28,32],   \n",
    "        'max_features': ('sqrt','log2','auto'), \n",
    "        'max_depth':    (5,10,15),     \n",
    "        'criterion'   : ['gini', 'entropy'],\n",
    "    }\n",
    "    model = RandomForestClassifier()\n",
    "    gs = GridSearchCV(estimator = model,     \n",
    "                              param_grid = parameters, \n",
    "                              cv = 2,\n",
    "                              n_jobs = -1,\n",
    "                              return_train_score = False,\n",
    "                              scoring = \"accuracy\"      \n",
    "                            )\n",
    "\n",
    "    resample_fit_score(gs, samplers[sampler], X_train, y_train, X_test, y_test)\n",
    "    print(\"Grid Search Random Forest\\n\\n\")\n",
    "\n",
    "# print('Best params: {}'.format(gs.best_params_)) \n",
    "# print('Best Score: {}'.format(gs.best_score_))\n"
   ]
  },
  {
   "cell_type": "code",
   "execution_count": null,
   "metadata": {
    "id": "S1EhctsqllLc"
   },
   "outputs": [],
   "source": []
  },
  {
   "cell_type": "markdown",
   "metadata": {
    "id": "YutMabkvt3YN"
   },
   "source": [
    "# Shapley Value Calculation"
   ]
  },
  {
   "cell_type": "markdown",
   "metadata": {
    "id": "xaZ2mMop1l5B"
   },
   "source": [
    "Calculate the Shapley values for the most accurate classifier, implementing whatever methods are necessary to ensure that this process finishes in a reasonable amount of time."
   ]
  },
  {
   "cell_type": "code",
   "execution_count": null,
   "metadata": {
    "colab": {
     "base_uri": "https://localhost:8080/"
    },
    "id": "KAMLPEDRt1Xa",
    "outputId": "1d734c03-e21f-4e7a-9681-baad1e195f7c"
   },
   "outputs": [],
   "source": [
    "!pip install shap\n",
    "import shap\n",
    "from datetime import datetime"
   ]
  },
  {
   "cell_type": "code",
   "execution_count": null,
   "metadata": {
    "id": "e-hi9T-r1G13"
   },
   "outputs": [],
   "source": [
    "xgb_explr = shap.Explainer(xgb_classifier)\n",
    "xgb_shap_values = xgb_explr(X)"
   ]
  },
  {
   "cell_type": "code",
   "execution_count": null,
   "metadata": {
    "colab": {
     "base_uri": "https://localhost:8080/"
    },
    "id": "-m8BuCXtPHz7",
    "outputId": "18f442a2-8426-423c-88c9-60d064930065"
   },
   "outputs": [],
   "source": [
    "k = 500\n",
    "rfc_explr = shap.Explainer(gs.predict, shap.sample(X_train, k))\n",
    "rfc_shap_vals = rfc_explr(shap.sample(X_test, k))"
   ]
  },
  {
   "cell_type": "code",
   "execution_count": null,
   "metadata": {
    "colab": {
     "base_uri": "https://localhost:8080/"
    },
    "id": "GEiglmQwO5Vq",
    "outputId": "b5f9c3df-7b52-4fc4-ef18-62763abbd274"
   },
   "outputs": [],
   "source": [
    "dec_tree_explr = shap.Explainer(bagging.predict, shap.sample(X_train, k))\n",
    "dec_tree_shap_vals = dec_tree_explr(shap.sample(X_test, k))"
   ]
  },
  {
   "cell_type": "markdown",
   "metadata": {
    "id": "WwtKAwlLuCbU"
   },
   "source": [
    "# Final Analysis & Data Visualizations"
   ]
  },
  {
   "cell_type": "markdown",
   "metadata": {
    "id": "d9rv-LjP1mjk"
   },
   "source": [
    "Generate all remaining data visualizations, graphs, etc. with the combined results of the correlation analysis and Shapley values. Generate whatever visualizations may be necessary or helpful for both our presentation and invidual rports. Err on the side of too many. Draw conclusions from the visualizations & write them down here."
   ]
  },
  {
   "cell_type": "code",
   "execution_count": null,
   "metadata": {
    "id": "mxLLPOnBuFDb"
   },
   "outputs": [],
   "source": [
    "# xgb_shap_values\n",
    "# rfc_shap_vals\n",
    "# dec_tree_shap_values\n",
    "\n",
    "shap_vals = [xgb_shap_values, rfc_shap_vals, dec_tree_shap_vals]"
   ]
  },
  {
   "cell_type": "code",
   "execution_count": null,
   "metadata": {
    "colab": {
     "base_uri": "https://localhost:8080/"
    },
    "id": "n6gFdNy7QOPG",
    "outputId": "c6ce35e4-1d03-42c5-82cf-df64df818e2b"
   },
   "outputs": [],
   "source": [
    "for shaps in shap_vals:\n",
    "  print(type(shaps))"
   ]
  },
  {
   "cell_type": "code",
   "execution_count": null,
   "metadata": {
    "colab": {
     "base_uri": "https://localhost:8080/",
     "height": 1000
    },
    "id": "ztvg1iTzPUyz",
    "outputId": "d3367fe7-eadc-471e-9273-e631dd86d57d"
   },
   "outputs": [],
   "source": [
    "for shaps in shap_vals:\n",
    "  shap.plots.beeswarm(shaps)"
   ]
  },
  {
   "cell_type": "code",
   "execution_count": null,
   "metadata": {
    "colab": {
     "base_uri": "https://localhost:8080/",
     "height": 1000
    },
    "id": "pBjkHANWJ9Oa",
    "outputId": "414e1157-7afb-4c0b-8809-6905edf2ecbe"
   },
   "outputs": [],
   "source": [
    "for shaps in shap_vals:\n",
    "  shap.summary_plot(shaps, plot_type=\"violin\")"
   ]
  },
  {
   "cell_type": "code",
   "execution_count": null,
   "metadata": {
    "colab": {
     "base_uri": "https://localhost:8080/",
     "height": 1000
    },
    "id": "WfYqQXvHKHNe",
    "outputId": "ea10c60b-cc1e-4cf4-8cfa-5c2f12a4ff6a"
   },
   "outputs": [],
   "source": [
    "for shaps in shap_vals:\n",
    "  names = shaps.feature_names\n",
    "  for k in range(0, len(names)):\n",
    "      for j in range(k, len(names)):\n",
    "        if(names[k] != names[j]):\n",
    "          shap.plots.scatter(shaps[:, names[k]], color=shaps[:, names[j]])"
   ]
  }
 ],
 "metadata": {
  "colab": {
   "collapsed_sections": [],
   "name": "Heart Disease Risk Factor Analysis.ipynb",
   "provenance": []
  },
  "kernelspec": {
   "display_name": "Python 3 (ipykernel)",
   "language": "python",
   "name": "python3"
  },
  "language_info": {
   "codemirror_mode": {
    "name": "ipython",
    "version": 3
   },
   "file_extension": ".py",
   "mimetype": "text/x-python",
   "name": "python",
   "nbconvert_exporter": "python",
   "pygments_lexer": "ipython3",
   "version": "3.9.7"
  }
 },
 "nbformat": 4,
 "nbformat_minor": 1
}
